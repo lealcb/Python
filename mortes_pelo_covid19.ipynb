{
 "cells": [
  {
   "cell_type": "code",
   "execution_count": 1,
   "metadata": {},
   "outputs": [],
   "source": [
    "import numpy as np\n",
    "import pandas as pd\n",
    "import requests as rqst \n",
    "import matplotlib.pyplot as pls \n",
    "\n",
    "df=pd.read_csv(\"https://data.humdata.org/hxlproxy/api/data-preview.csv?url=https%3A%2F%2Fraw.githubusercontent.com%2FCSSEGISandData%2FCOVID-19%2Fmaster%2Fcsse_covid_19_data%2Fcsse_covid_19_time_series%2Ftime_series_covid19_deaths_global.csv&filename=time_series_covid19_deaths_global.csv\")\n",
    "\n",
    "df2=df[df[\"Country/Region\"]==\"Brazil\"]\n",
    "\n",
    "df3= df2.copy()\n",
    "\n",
    "del df3[\"Lat\"]\n",
    "\n",
    "del df3[\"Long\"]\n",
    "\n",
    "df3.melt(id_vars=[\"Country/Region\"],\n",
    "         var_name=\"Data\" , value_name=\"Mortes\")\n",
    "\n",
    "df4=df3.melt(id_vars=[\"Country/Region\"],\n",
    "         var_name=\"Data\" , value_name=\"Mortes\")\n",
    "\n",
    "df_brazil=df4.copy\n",
    "\n",
    "df4[\"Country/Region\"] = df4[\"Country/Region\"].str.replace(\"Brazil\",\"Brasil\")\n",
    "\n",
    "df4.rename(columns={\"Country/Region\":\"País\"})\n",
    "\n",
    "# Clean 0 values from DataFrame\n",
    "drop_mortes=df4.index[df4[\"Mortes\"]==0].tolist()\n",
    "c=drop_mortes\n",
    "df4=df4.drop(df4.index[c])\n",
    "\n",
    "df4.to_csv(r\"C:\\Python\\treinamento\\Aplicações\\Corona Virus\\mortes.csv\",index=False)"
   ]
  },
  {
   "cell_type": "code",
   "execution_count": 2,
   "metadata": {},
   "outputs": [
    {
     "data": {
      "text/html": [
       "<div>\n",
       "<style scoped>\n",
       "    .dataframe tbody tr th:only-of-type {\n",
       "        vertical-align: middle;\n",
       "    }\n",
       "\n",
       "    .dataframe tbody tr th {\n",
       "        vertical-align: top;\n",
       "    }\n",
       "\n",
       "    .dataframe thead th {\n",
       "        text-align: right;\n",
       "    }\n",
       "</style>\n",
       "<table border=\"1\" class=\"dataframe\">\n",
       "  <thead>\n",
       "    <tr style=\"text-align: right;\">\n",
       "      <th></th>\n",
       "      <th>Country/Region</th>\n",
       "      <th>Data</th>\n",
       "      <th>Mortes</th>\n",
       "    </tr>\n",
       "  </thead>\n",
       "  <tbody>\n",
       "    <tr>\n",
       "      <th>0</th>\n",
       "      <td>Brasil</td>\n",
       "      <td>Province/State</td>\n",
       "      <td>NaN</td>\n",
       "    </tr>\n",
       "    <tr>\n",
       "      <th>56</th>\n",
       "      <td>Brasil</td>\n",
       "      <td>3/17/20</td>\n",
       "      <td>1</td>\n",
       "    </tr>\n",
       "    <tr>\n",
       "      <th>57</th>\n",
       "      <td>Brasil</td>\n",
       "      <td>3/18/20</td>\n",
       "      <td>3</td>\n",
       "    </tr>\n",
       "    <tr>\n",
       "      <th>58</th>\n",
       "      <td>Brasil</td>\n",
       "      <td>3/19/20</td>\n",
       "      <td>6</td>\n",
       "    </tr>\n",
       "    <tr>\n",
       "      <th>59</th>\n",
       "      <td>Brasil</td>\n",
       "      <td>3/20/20</td>\n",
       "      <td>11</td>\n",
       "    </tr>\n",
       "  </tbody>\n",
       "</table>\n",
       "</div>"
      ],
      "text/plain": [
       "   Country/Region            Data Mortes\n",
       "0          Brasil  Province/State    NaN\n",
       "56         Brasil         3/17/20      1\n",
       "57         Brasil         3/18/20      3\n",
       "58         Brasil         3/19/20      6\n",
       "59         Brasil         3/20/20     11"
      ]
     },
     "execution_count": 2,
     "metadata": {},
     "output_type": "execute_result"
    }
   ],
   "source": [
    "df4.head()"
   ]
  },
  {
   "cell_type": "code",
   "execution_count": null,
   "metadata": {},
   "outputs": [],
   "source": [
    "df"
   ]
  },
  {
   "cell_type": "code",
   "execution_count": null,
   "metadata": {},
   "outputs": [],
   "source": []
  }
 ],
 "metadata": {
  "kernelspec": {
   "display_name": "Python 3",
   "language": "python",
   "name": "python3"
  },
  "language_info": {
   "codemirror_mode": {
    "name": "ipython",
    "version": 3
   },
   "file_extension": ".py",
   "mimetype": "text/x-python",
   "name": "python",
   "nbconvert_exporter": "python",
   "pygments_lexer": "ipython3",
   "version": "3.6.5"
  }
 },
 "nbformat": 4,
 "nbformat_minor": 2
}
